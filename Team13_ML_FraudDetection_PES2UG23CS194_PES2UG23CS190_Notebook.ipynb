{
  "cells": [
    {
      "cell_type": "code",
      "source": [
        "# Install necessary libraries (imbalanced-learn is crucial for SMOTE/NearMiss)\n",
        "!pip install imbalanced-learn scikit-learn\n",
        "\n",
        "# --- Imports ---\n",
        "import pandas as pd\n",
        "from sklearn.preprocessing import StandardScaler, RobustScaler\n",
        "from sklearn.model_selection import train_test_split\n",
        "from imblearn.over_sampling import SMOTE\n",
        "from imblearn.under_sampling import NearMiss\n",
        "from sklearn.linear_model import LogisticRegression\n",
        "from sklearn.ensemble import RandomForestClassifier\n",
        "from sklearn.metrics import classification_report, confusion_matrix, roc_auc_score\n",
        "import matplotlib.pyplot as plt\n",
        "import seaborn as sns\n",
        "import numpy as np\n",
        "\n",
        "# 1. Load the Dataset\n",
        "# NOTE: Ensure 'creditcard.csv' is uploaded to your Colab session files.\n",
        "try:\n",
        "    df = pd.read_csv('creditcard.csv')\n",
        "except FileNotFoundError:\n",
        "    print(\"Error: 'creditcard.csv' not found. Please upload it to your Colab environment.\")\n",
        "    exit()\n",
        "\n",
        "# 2. Check for Imbalance (CRITICAL STEP)\n",
        "fraud_count = df['Class'].value_counts()\n",
        "print(\"\\n--- Transaction Class Distribution ---\")\n",
        "print(fraud_count)\n",
        "\n",
        "# Visualize Imbalance\n",
        "plt.figure(figsize=(6, 4))\n",
        "sns.countplot(x='Class', data=df)\n",
        "plt.title('Class Distribution (0: Legitimate, 1: Fraud)')\n",
        "plt.show()\n"
      ],
      "metadata": {
        "colab": {
          "base_uri": "https://localhost:8080/",
          "height": 618
        },
        "id": "t4jYinXbl4kp",
        "outputId": "401e8ca4-adf2-4953-e90c-270b6a6e8537"
      },
      "execution_count": 11,
      "outputs": [
        {
          "output_type": "stream",
          "name": "stdout",
          "text": [
            "Requirement already satisfied: imbalanced-learn in /usr/local/lib/python3.12/dist-packages (0.14.0)\n",
            "Requirement already satisfied: scikit-learn in /usr/local/lib/python3.12/dist-packages (1.6.1)\n",
            "Requirement already satisfied: numpy<3,>=1.25.2 in /usr/local/lib/python3.12/dist-packages (from imbalanced-learn) (2.0.2)\n",
            "Requirement already satisfied: scipy<2,>=1.11.4 in /usr/local/lib/python3.12/dist-packages (from imbalanced-learn) (1.16.2)\n",
            "Requirement already satisfied: joblib<2,>=1.2.0 in /usr/local/lib/python3.12/dist-packages (from imbalanced-learn) (1.5.2)\n",
            "Requirement already satisfied: threadpoolctl<4,>=2.0.0 in /usr/local/lib/python3.12/dist-packages (from imbalanced-learn) (3.6.0)\n",
            "\n",
            "--- Transaction Class Distribution ---\n",
            "Class\n",
            "0    284315\n",
            "1       492\n",
            "Name: count, dtype: int64\n"
          ]
        },
        {
          "output_type": "display_data",
          "data": {
            "text/plain": [
              "<Figure size 600x400 with 1 Axes>"
            ],
            "image/png": "[encoded data removed]"
          },
          "metadata": {}
        }
      ]
    },
    {
      "cell_type": "code",
      "source": [
        "# C. Data Preprocessing\n",
        "\n",
        "# 1. Scaling 'Amount' and 'Time'\n",
        "# RobustScaler is used for 'Amount' because it's less sensitive to outliers.\n",
        "scaler = RobustScaler()\n",
        "df['Amount_Scaled'] = scaler.fit_transform(df['Amount'].values.reshape(-1, 1))\n",
        "\n",
        "# StandardScaler is used for 'Time'.\n",
        "time_scaler = StandardScaler()\n",
        "df['Time_Scaled'] = time_scaler.fit_transform(df['Time'].values.reshape(-1, 1))\n",
        "\n",
        "# 2. Drop the original unscaled columns\n",
        "df.drop(['Time', 'Amount'], axis=1, inplace=True)\n",
        "\n",
        "# 3. Define X (Features) and y (Target)\n",
        "X = df.drop('Class', axis=1)\n",
        "y = df['Class']\n",
        "\n",
        "# 4. Split the Data (70% Train, 30% Test)\n",
        "# stratify=y is essential to ensure the tiny fraction of fraud cases is distributed evenly.\n",
        "X_train, X_test, y_train, y_test = train_test_split(X, y, test_size=0.3, random_state=42, stratify=y)\n",
        "\n",
        "print(f\"\\nTraining set size: {len(X_train)} | Fraud cases: {y_train.sum()}\")\n",
        "print(f\"Test set size: {len(X_test)} | Fraud cases: {y_test.sum()}\")"
      ],
      "metadata": {
        "colab": {
          "base_uri": "https://localhost:8080/"
        },
        "id": "ktuUyHVpmAW3",
        "outputId": "293d18b6-42a6-4b4a-a303-c8c1f3be51ed"
      },
      "execution_count": 12,
      "outputs": [
        {
          "output_type": "stream",
          "name": "stdout",
          "text": [
            "\n",
            "Training set size: 199364 | Fraud cases: 344\n",
            "Test set size: 85443 | Fraud cases: 148\n"
          ]
        }
      ]
    },
    {
      "cell_type": "code",
      "source": [
        "# D. Model 1 - Logistic Regression (SMOTE)\n",
        "\n",
        "# 1. Apply SMOTE to the TRAINING data ONLY\n",
        "smote = SMOTE(random_state=42)\n",
        "X_train_smote, y_train_smote = smote.fit_resample(X_train, y_train)\n",
        "\n",
        "print(f\"\\nSMOTE New Class Distribution: {y_train_smote.value_counts()}\")\n",
        "\n",
        "# 2. Train Model\n",
        "model_LR = LogisticRegression(solver='liblinear', random_state=42)\n",
        "model_LR.fit(X_train_smote, y_train_smote)\n",
        "\n",
        "# 3. Predict & Evaluate on UNBALANCED Test Set\n",
        "y_pred_LR = model_LR.predict(X_test)\n",
        "y_proba_LR = model_LR.predict_proba(X_test)[:, 1]\n",
        "\n",
        "print(\"\\n--- Logistic Regression (SMOTE) Results ---\")\n",
        "print(classification_report(y_test, y_pred_LR))\n",
        "print(f\"ROC-AUC Score: {roc_auc_score(y_test, y_proba_LR):.4f}\")\n",
        "print(\"Confusion Matrix:\\n\", confusion_matrix(y_test, y_pred_LR))"
      ],
      "metadata": {
        "colab": {
          "base_uri": "https://localhost:8080/"
        },
        "id": "X02oUj38mm0R",
        "outputId": "d80f250d-dd48-446c-acec-07985b180fa2"
      },
      "execution_count": 13,
      "outputs": [
        {
          "output_type": "stream",
          "name": "stdout",
          "text": [
            "\n",
            "SMOTE New Class Distribution: Class\n",
            "0    199020\n",
            "1    199020\n",
            "Name: count, dtype: int64\n",
            "\n",
            "--- Logistic Regression (SMOTE) Results ---\n",
            "              precision    recall  f1-score   support\n",
            "\n",
            "           0       1.00      0.98      0.99     85295\n",
            "           1       0.06      0.88      0.12       148\n",
            "\n",
            "    accuracy                           0.98     85443\n",
            "   macro avg       0.53      0.93      0.55     85443\n",
            "weighted avg       1.00      0.98      0.99     85443\n",
            "\n",
            "ROC-AUC Score: 0.9660\n",
            "Confusion Matrix:\n",
            " [[83410  1885]\n",
            " [   18   130]]\n"
          ]
        }
      ]
    },
    {
      "cell_type": "code",
      "source": [
        "# E. Model 2 - Random Forest (NearMiss)\n",
        "\n",
        "# 1. Apply NearMiss to the TRAINING data ONLY\n",
        "# --- CORRECTION: REMOVED 'random_state=42' ---\n",
        "nm = NearMiss(version=3, sampling_strategy='majority')\n",
        "X_train_nm, y_train_nm = nm.fit_resample(X_train, y_train)\n",
        "\n",
        "print(f\"\\nNearMiss New Class Distribution: {y_train_nm.value_counts()}\")\n",
        "\n",
        "# 2. Train Model (RandomForestClassifier still needs random_state)\n",
        "model_RF_NM = RandomForestClassifier(n_estimators=100, random_state=42)\n",
        "model_RF_NM.fit(X_train_nm, y_train_nm)\n",
        "\n",
        "# 3. Predict & Evaluate on UNBALANCED Test Set\n",
        "y_pred_RF_NM = model_RF_NM.predict(X_test)\n",
        "y_proba_RF_NM = model_RF_NM.predict_proba(X_test)[:, 1]\n",
        "\n",
        "print(\"\\n--- Random Forest (NearMiss) Results ---\")\n",
        "print(classification_report(y_test, y_pred_RF_NM))\n",
        "print(f\"ROC-AUC Score: {roc_auc_score(y_test, y_proba_RF_NM):.4f}\")\n",
        "print(\"Confusion Matrix:\\n\", confusion_matrix(y_test, y_pred_RF_NM))"
      ],
      "metadata": {
        "colab": {
          "base_uri": "https://localhost:8080/"
        },
        "id": "6woE47pmmt5X",
        "outputId": "2f633961-35fe-4414-d89a-b8f5f2223057"
      },
      "execution_count": 14,
      "outputs": [
        {
          "output_type": "stream",
          "name": "stderr",
          "text": [
            "/usr/local/lib/python3.12/dist-packages/imblearn/under_sampling/_prototype_selection/_nearmiss.py:206: UserWarning: The number of the samples to be selected is larger than the number of samples available. The balancing ratio cannot be ensure and all samples will be returned.\n",
            "  warnings.warn(\n"
          ]
        },
        {
          "output_type": "stream",
          "name": "stdout",
          "text": [
            "\n",
            "NearMiss New Class Distribution: Class\n",
            "1    344\n",
            "0    286\n",
            "Name: count, dtype: int64\n",
            "\n",
            "--- Random Forest (NearMiss) Results ---\n",
            "              precision    recall  f1-score   support\n",
            "\n",
            "           0       1.00      1.00      1.00     85295\n",
            "           1       0.37      0.82      0.51       148\n",
            "\n",
            "    accuracy                           1.00     85443\n",
            "   macro avg       0.69      0.91      0.76     85443\n",
            "weighted avg       1.00      1.00      1.00     85443\n",
            "\n",
            "ROC-AUC Score: 0.9348\n",
            "Confusion Matrix:\n",
            " [[85088   207]\n",
            " [   26   122]]\n"
          ]
        }
      ]
    },
    {
      "cell_type": "code",
      "source": [
        "# F. Model 3 - Random Forest (Cost-Sensitive/Class-Weighted)\n",
        "\n",
        "# 1. Train Model with Class Weights (on original, UNBALANCED data)\n",
        "# 'balanced' automatically weights the minority class higher.\n",
        "model_RF_weighted = RandomForestClassifier(\n",
        "    n_estimators=100,\n",
        "    random_state=42,\n",
        "    class_weight='balanced'\n",
        ")\n",
        "\n",
        "# Training on original, UNBALANCED features (X_train, y_train)\n",
        "model_RF_weighted.fit(X_train, y_train)\n",
        "\n",
        "# 2. Predict & Evaluate on UNBALANCED Test Set\n",
        "y_pred_RF_weighted = model_RF_weighted.predict(X_test)\n",
        "y_proba_RF_weighted = model_RF_weighted.predict_proba(X_test)[:, 1]\n",
        "\n",
        "print(\"\\n--- Random Forest (Class-Weighted) Results ---\")\n",
        "print(classification_report(y_test, y_pred_RF_weighted))\n",
        "print(f\"ROC-AUC Score: {roc_auc_score(y_test, y_proba_RF_weighted):.4f}\")\n",
        "print(\"Confusion Matrix:\\n\", confusion_matrix(y_test, y_pred_RF_weighted))"
      ],
      "metadata": {
        "colab": {
          "base_uri": "https://localhost:8080/"
        },
        "id": "W3mn9wShnKIF",
        "outputId": "755a14ae-d98d-48f1-af21-0099f2131e2e"
      },
      "execution_count": 15,
      "outputs": [
        {
          "output_type": "stream",
          "name": "stdout",
          "text": [
            "\n",
            "--- Random Forest (Class-Weighted) Results ---\n",
            "              precision    recall  f1-score   support\n",
            "\n",
            "           0       1.00      1.00      1.00     85295\n",
            "           1       0.97      0.70      0.81       148\n",
            "\n",
            "    accuracy                           1.00     85443\n",
            "   macro avg       0.99      0.85      0.91     85443\n",
            "weighted avg       1.00      1.00      1.00     85443\n",
            "\n",
            "ROC-AUC Score: 0.9377\n",
            "Confusion Matrix:\n",
            " [[85292     3]\n",
            " [   45   103]]\n"
          ]
        }
      ]
    },
    {
      "cell_type": "code",
      "source": [
        "# --- New Cell 6: BASELINE MODEL PROOF (NO REBALANCING) ---\n",
        "\n",
        "from sklearn.linear_model import LogisticRegression\n",
        "\n",
        "print(\"--- BASELINE MODEL: LR on UNBALANCED DATA ---\")\n",
        "\n",
        "# Train LR directly on the original imbalanced training data\n",
        "model_baseline = LogisticRegression(solver='liblinear', random_state=42)\n",
        "model_baseline.fit(X_train, y_train)\n",
        "\n",
        "# Predict & Evaluate on UNBALANCED Test Set\n",
        "y_pred_baseline = model_baseline.predict(X_test)\n",
        "y_proba_baseline = model_baseline.predict_proba(X_test)[:, 1]\n",
        "\n",
        "# Display the Deceptive Accuracy vs. Poor Recall\n",
        "print(f\"Overall Accuracy: {model_baseline.score(X_test, y_test):.4f}\")\n",
        "print(\"Classification Report:\")\n",
        "print(classification_report(y_test, y_pred_baseline))\n",
        "print(f\"ROC-AUC Score: {roc_auc_score(y_test, y_proba_baseline):.4f}\")\n",
        "\n",
        "# You will see high Accuracy but Recall for Class 1 is very low (or zero), proving the point."
      ],
      "metadata": {
        "colab": {
          "base_uri": "https://localhost:8080/"
        },
        "id": "0G4WPey-rgjr",
        "outputId": "9ebb92f1-94df-4818-fd8a-8a11d46e6292"
      },
      "execution_count": 16,
      "outputs": [
        {
          "output_type": "stream",
          "name": "stdout",
          "text": [
            "--- BASELINE MODEL: LR on UNBALANCED DATA ---\n",
            "Overall Accuracy: 0.9992\n",
            "Classification Report:\n",
            "              precision    recall  f1-score   support\n",
            "\n",
            "           0       1.00      1.00      1.00     85295\n",
            "           1       0.86      0.62      0.72       148\n",
            "\n",
            "    accuracy                           1.00     85443\n",
            "   macro avg       0.93      0.81      0.86     85443\n",
            "weighted avg       1.00      1.00      1.00     85443\n",
            "\n",
            "ROC-AUC Score: 0.9545\n"
          ]
        }
      ]
    },
    {
      "cell_type": "code",
      "source": [
        "# --- New Cell 7: VISUALIZE BEST MODEL PERFORMANCE (RF Class-Weighted) ---\n",
        "\n",
        "# Get the confusion matrix data from the best model (Cell 5 output)\n",
        "cm = confusion_matrix(y_test, y_pred_RF_weighted)\n",
        "\n",
        "plt.figure(figsize=(6, 5))\n",
        "sns.heatmap(\n",
        "    cm,\n",
        "    annot=True,\n",
        "    fmt='d',\n",
        "    cmap='Blues',\n",
        "    xticklabels=['Legitimate (0)', 'Fraud (1)'],\n",
        "    yticklabels=['Legitimate (0)', 'Fraud (1)']\n",
        ")\n",
        "plt.title('Confusion Matrix: Random Forest (Class-Weighted)')\n",
        "plt.xlabel('Predicted Class')\n",
        "plt.ylabel('True Class')\n",
        "plt.show()\n",
        "\n",
        "# Focus the discussion on the top-right (False Positives) and bottom-left (False Negatives) cells."
      ],
      "metadata": {
        "colab": {
          "base_uri": "https://localhost:8080/",
          "height": 487
        },
        "id": "w5zcm0jNrsAO",
        "outputId": "288d62e1-ad26-4b04-c194-ce10c864c1a9"
      },
      "execution_count": 17,
      "outputs": [
        {
          "output_type": "display_data",
          "data": {
            "text/plain": [
              "<Figure size 600x500 with 2 Axes>"
            ],
            "image/png": "[encoded data removed]"
          },
          "metadata": {}
        }
      ]
    }
  ],
  "metadata": {
    "colab": {
      "name": "Welcome To Colab",
      "provenance": []
    },
    "kernelspec": {
      "display_name": "Python 3",
      "name": "python3"
    }
  },
  "nbformat": 4,
  "nbformat_minor": 0
}